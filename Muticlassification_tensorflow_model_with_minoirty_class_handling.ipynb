{
  "nbformat": 4,
  "nbformat_minor": 0,
  "metadata": {
    "colab": {
      "name": "Muticlassification  tensorflow model with minoirty class handling",
      "provenance": [],
      "authorship_tag": "ABX9TyNpySyoxbNnM+K4s/6P//Gf",
      "include_colab_link": true
    },
    "kernelspec": {
      "name": "python3",
      "display_name": "Python 3"
    },
    "accelerator": "GPU"
  },
  "cells": [
    {
      "cell_type": "markdown",
      "metadata": {
        "id": "view-in-github",
        "colab_type": "text"
      },
      "source": [
        "<a href=\"https://colab.research.google.com/github/BibhuDas123/Deep_learning/blob/master/Muticlassification_tensorflow_model_with_minoirty_class_handling.ipynb\" target=\"_parent\"><img src=\"https://colab.research.google.com/assets/colab-badge.svg\" alt=\"Open In Colab\"/></a>"
      ]
    },
    {
      "cell_type": "code",
      "metadata": {
        "id": "cWHZd7LuQUpP"
      },
      "source": [
        "from __future__ import absolute_import,division,print_function,unicode_literals\n",
        "import tensorflow as tf\n",
        "import os,datetime\n",
        "import tensorflow_hub as hub\n",
        "import numpy as np\n",
        "import pandas as pd\n",
        "from sklearn.model_selection import train_test_split"
      ],
      "execution_count": 1,
      "outputs": []
    },
    {
      "cell_type": "code",
      "metadata": {
        "id": "wjBH9dGpRwcg"
      },
      "source": [
        "df=pd.read_csv('https://github.com/srivatsan88/YouTubeLI/blob/master/dataset/consumer_compliants.zip?raw=true',compression='zip',sep=',',quotechar='\"')"
      ],
      "execution_count": 2,
      "outputs": []
    },
    {
      "cell_type": "code",
      "metadata": {
        "id": "uwraHbUnRwn8"
      },
      "source": [
        "df.columns\n",
        "pd.set_option('display.max_colwidth',1)\n"
      ],
      "execution_count": 3,
      "outputs": []
    },
    {
      "cell_type": "code",
      "metadata": {
        "id": "JzwIEL0DS-Wc"
      },
      "source": [
        "X_train,X_test=train_test_split(df,test_size=0.2,random_state=0)"
      ],
      "execution_count": 4,
      "outputs": []
    },
    {
      "cell_type": "code",
      "metadata": {
        "id": "F8OsVjMSS-4u"
      },
      "source": [
        "#Handling unbalanved classes in the target but applying new methos:class weight\n",
        "#what it odes it adds majoirty weight to minority classes and vice versa\n",
        "from sklearn.utils import class_weight\n",
        "class_weights=list(class_weight.compute_class_weight('balanced',\n",
        "                                                    np.unique(df['Product']),\n",
        "                                                    df['Product']))"
      ],
      "execution_count": 5,
      "outputs": []
    },
    {
      "cell_type": "code",
      "metadata": {
        "id": "J4Y08xJgVxSD",
        "outputId": "569a565b-2bc4-406b-b35a-64ea31a4ae7a",
        "colab": {
          "base_uri": "https://localhost:8080/"
        }
      },
      "source": [
        "df['Product'].value_counts()"
      ],
      "execution_count": 6,
      "outputs": [
        {
          "output_type": "execute_result",
          "data": {
            "text/plain": [
              "Debt collection                21772\n",
              "Credit card or prepaid card    13193\n",
              "Mortgage                       9799 \n",
              "Checking or savings account    7003 \n",
              "Student loan                   2950 \n",
              "Vehicle loan or lease          2736 \n",
              "Name: Product, dtype: int64"
            ]
          },
          "metadata": {
            "tags": []
          },
          "execution_count": 6
        }
      ]
    },
    {
      "cell_type": "code",
      "metadata": {
        "id": "ptqTDAAHXE-z",
        "outputId": "47f5c5ed-4042-4ff1-efed-0cbc769b4d34",
        "colab": {
          "base_uri": "https://localhost:8080/"
        }
      },
      "source": [
        "class_weights.sort()\n",
        "class_weights"
      ],
      "execution_count": 7,
      "outputs": [
        {
          "output_type": "execute_result",
          "data": {
            "text/plain": [
              "[0.43980801028844385,\n",
              " 0.7258015614340938,\n",
              " 0.9771915501581794,\n",
              " 1.3673425674710837,\n",
              " 3.2459322033898306,\n",
              " 3.4998172514619883]"
            ]
          },
          "metadata": {
            "tags": []
          },
          "execution_count": 7
        }
      ]
    },
    {
      "cell_type": "code",
      "metadata": {
        "id": "GKgl4kEyYX37"
      },
      "source": [
        "weights={}\n",
        "for index,weight in enumerate(class_weights):\n",
        "  weights[index]=weight\n"
      ],
      "execution_count": 8,
      "outputs": []
    },
    {
      "cell_type": "code",
      "metadata": {
        "id": "X6sI5RDjYYCi"
      },
      "source": [
        "dataset_train=tf.data.Dataset.from_tensor_slices((X_train['Consumer complaint narrative'].values,X_train['Product'].values))\n",
        "dataset_test=tf.data.Dataset.from_tensor_slices((X_test['Consumer complaint narrative'].values,X_test ['Product'].values))"
      ],
      "execution_count": 9,
      "outputs": []
    },
    {
      "cell_type": "code",
      "metadata": {
        "id": "aNJZ-mPjYYFd",
        "outputId": "6b362926-f90a-4ce3-ad95-3b56ac9e44db",
        "colab": {
          "base_uri": "https://localhost:8080/"
        }
      },
      "source": [
        "for text,target in dataset_train.take(5):\n",
        "  print('Complaint:{},Target:{}'.format(text,target))"
      ],
      "execution_count": 10,
      "outputs": [
        {
          "output_type": "stream",
          "text": [
            "Complaint:b'am contacting Bank Of America in reference due to a balance owed from a overdraft checkings account. I am requesting for a typed document which stated the amounts owed and the also the account number associated with the overdraft amount. I am requesting for the account to be deleted from XXXX, The XXXX  XXXX  XXXX and XXXX XXXX and any other reporting system. For an agreement or exchange to pay this balance on my reports from years ago. The derogatory information you have provided in reference to this account is visible on my consumer report/file with the agencys listed above. As this is damaging my chances with any future banking relationship with other banks. Please acknowledge this written statement and send a balance and payment option document to the address you have on file or that submitted with this dispute.',Target:b'Checking or savings account'\n",
            "Complaint:b'On XXXX XXXX XXXX XXXX sent {$1000.00} to my XXXX  XXXX  which had my bank account linked. On XXXX XXXX XXXX XXXX filed a dispute. I filed a dispute for my {$1000.00} back but the back but my bank declined because of XXXX  XXXX. Im not understanding why because they refunded my money before due to an XXXX  XXXX  issue. My account is now in the negative because of this. I just need this resolved ASAP its been going on two months now.',Target:b'Checking or savings account'\n",
            "Complaint:b'Regarding past complaint XXXX IC Systems in that complaint acknowledged they have no lawful claim of collection and stated they would cease and desist all contact and all claims of collection, as they are unable to validate any claims. IC Systems has instead opened a credit account against the complainant in an attempt to damage complainants credit for a debt which they are not owned. IC Systems has has no agreement to future services, the debt in question is past the lawful statute of limitations having claimed origination in XX/XX/2017, and IC Systems has already conceded that even during that time they had no lawful claim for collection.',Target:b'Debt collection'\n",
            "Complaint:b'Bank admitted to reversing my direct payment to three of my creditor for three months causing my payments to be recorded as three months past due. Because of their error my credit score has gone down drastically and they closed my account causing my direct deposit from my pension to be late which Inturn cause a snowball effect that impossible for me to recover since Im on fixed income. They are now asking me for money for the error and windfall they created by claiming unauthorized claim to reverse my monthly contract payment.',Target:b'Checking or savings account'\n",
            "Complaint:b'I have a MasterCard with Citi that I have held since XX/XX/2014. I have never had an issue paying the account, have not gone delinquent. I have used the card and paid as agreed for over 5 years. During XXXX, I was distracted caring for a sick family member and forgot to make the payment for early XXXX. When I logged in and saw that I was past due I immediately made the payment. They charged a late fee. Also, within the same week, they sent me a notification that my credit line was decreased. The reason the noted in the communication was that \" they show I have high utilization of other credit accounts. \\'\\' I take offense to this tactic of taking adverse action on a long time customer who is in good standing. During a crisis where all institutions, including Citi, say they are here to help and this is how I am treated. My credit utilization has been the same for the recent 2-3 years and I am current on all of my credit accounts, mortgage and car loans. Nothing is past due. To impact my credit line, charge a late fee during a global pandemic is unacceptable. Also, on this account, I have not used it recently - which should be viewed as me being responsible and paying down this debt and other debts. My high utilization will be further impacted by Citi reducing my credit line, which in turn will show me at a higher credit utilization for this account and my overall credit profile in general. I think it is an unfair practice. I am requesting that Citi reverse this decision, restore my account, which is in good standing and paid current, never past due. I\\'d like the initial credit line to be restored and the late fee reversed.',Target:b'Credit card or prepaid card'\n"
          ],
          "name": "stdout"
        }
      ]
    },
    {
      "cell_type": "code",
      "metadata": {
        "id": "KypHH-9qaIFT",
        "outputId": "8f301419-4662-44d4-a7d7-c2c1bf88cbc5",
        "colab": {
          "base_uri": "https://localhost:8080/"
        }
      },
      "source": [
        "for text,target in dataset_test.take(5):\n",
        "  print('Complaint:{},Target;{}'.format(text,target))"
      ],
      "execution_count": 11,
      "outputs": [
        {
          "output_type": "stream",
          "text": [
            "Complaint:b'My loan officer, XXXX XXXX, with Mortgage Express, and realtor, XXXX XXXX, told me to apply for an owner occupied loan, when they both knew that I wanted to rent the property out, in order to take care of my XXXX year old mother. The first loan I applied for with Mortgage Express was for a rental property loan. My offer was not accepted. When I found another home I put an offer on, they told me since I would eventually live in the home ( when my mother passed away ), to apply for a owner occupied loan. When the loan closed, and I informed my home owners insurance company ( XXXX ), they told me I needed a rental policy not home owners. When I contacted XXXX XXXX she stated she knew nothing about home insurance. I plan to occupy this home AND take care of my XXXX year old mother in her home, but I do not want Mortgage Express to do this to anyone else. XXXX XXXX has left threatening messages on my cell phone when I have asked to speak to her manager. She has been trying to intimidate me. How many other complaints do you have against Mortgage Express in XXXX, Oregon?',Target;b'Mortgage'\n",
            "Complaint:b\"Both my husband and I went through a financial crisis due to a XXXX XXXX he had more than 10 years ago. We were unable to pay our credit card debt and it went into collection. We had 3 credit card through XXXX XXXX, 1 through XXXX and 1 through XXXX ... 5 total. We hit the 10-year Mark since the debt last year. In XXXX we received five 1099 notices advising that the debt had been charged off and we were required to submit it as regular income on our tax returns. Which we did. It's my understanding that they can no longer try to collect that debt once it's been written off AND they have 1099d that debt requiring us to claim it as regular income as a result of bad debt. However all five cards had been assigned to XXXX like 7 or 8 years ago. Again the debt has already been charged off and we claimed it as regular income as a result of bad debt on our 2019 tax return veripro continues to call us. I don't understand how they are able to continue to collect on it when both of those other actions have already taken place. Let 's say we were able to come up with the money to pay them, it would not be fair to us as the consumer to have already claimed it as regular income and then also pay them. We are then being double hit for the debt. We don't have the money to pay them but I don't understand why they are allowed to still call us when the debt has been written off and we claimed it on our tax returns as a result of them 1099ing us all five cards. Please advise how we can get them to stop calling us. Because we each at least five calls per day from these people.\",Target;b'Debt collection'\n",
            "Complaint:b\"I had contacted my Lender multiple times recently about the recent appraisal. I had faxed over the enclosed PDF about the latest appraisal report. I had spoken to someone at my lender 's PMI department but they would not accept another party ordering and want me to pay my own higher costs to them to submit to XXXX XXXX. I then contacted XXXX XXXX right away yesterday and have a case pending, number is XXXX.\",Target;b'Mortgage'\n",
            "Complaint:b\"XXXX FIRST ATTEMPT. \\n\\nI RESPONDED TO THE COMPLAINT AND STILL THIS ISSUE HAS NOT BEEN RESOLVED/ TO THIS DAY THERE HAS BEEN NO VALIDTY OF THE DEBT. XXXX XXXX XXXX PREVIOUSLY WORKED UNDER ANOTHER NAME WHICH WAS RECENTLY CHANGED WHEN SPEAKING WITH XXXX  AND XXXX  THIS DEBT BUYING COMPANY WAS NOT ABLE TO PROVIDE A RECENT CONTRACT HOWEVER ACCORDING TO RESPONSE YOU SENT MY CREDIT BUREAU WAS UPDATED THE OLD CONTRACT FROM TIME OF PURCHASE DOES NOT VALIDATE A SERVICE THAT EXPIRED/ I ONCE AGAIN NEVER RENEWED MY CONTRACT THEREFORE THE CONTRACT IS NULL AND VOID. THE ORIGINALLY DOCUMENT SIGNED IS EXPIRED. THIS DEBT WAS ON MY CREDIT REPORT PREVIOUSLY THRU XXXX  THE ORIGINAL CREDITOR AND WAS REMOVED. I SEND ALL THE DOCUMENTS FROM THE XXXX  THAT SHOWS THIS COMPANY 'S NORMAL PRACTICE IS DO THIS TO CONSUMERS. XXXX Complaints Show Sort By Complaint Type : Billing/Collection Issues Status : Answered XX/XX/XXXX This company has reported erroneous information to the credit bureau as well about an account that had already been resolved from XXXX. This has also negatively impacted my credit score. I had not received any invoices or anything regarding debts owed from monitrinics. I asked for Proof if this debt and all I received was a copy of an agreement from XXXX. I do not owe this company anything. \\nComplaint Type : Billing/Collection Issues Status : Unresolved XX/XX/XXXX I have never done business with this company and they have placed me for collection with a company called XXXX. I have never had or used anything from a company called XXXX. This business places scam accounts on your file to bully you into paying a balance and never belonged to a person in the first place. They blatantly fail to adhere to the Fair Credit Act and refuse to provide ANY single document that proves their false allegation that a person owes what they allege. This is a scam. All companies are bound by the Fair Credit Act and thi THESE COMPLAINTS GO ON AND ON I'M ASKING TO HAVE THIS COMPANY INVESTIGATED AND ALSO REVIEW THE 202 COMPLAINTS FILED JUST IN THE MONTH OF XXXX. I HAVE CONTINUED TO CONACT XXXX   THRU WRITING WHICH THERE HAS BEEN NOT ONE RESPONSE. I HAVE CONTACTED AT THIS POINT AN ATTORNEY TO ALSO ASSIST ME WITH THIS MATTER.\",Target;b'Debt collection'\n",
            "Complaint:b'I am a victim of identity theft and this debt does not belong to me. \\n\\nPlease see the identity theft report and legal affidavit attached.',Target;b'Debt collection'\n"
          ],
          "name": "stdout"
        }
      ]
    },
    {
      "cell_type": "code",
      "metadata": {
        "id": "cAFzAYMChMwx"
      },
      "source": [
        "table = tf.lookup.StaticHashTable(\n",
        "    initializer=tf.lookup.KeyValueTensorInitializer(\n",
        "        keys=tf.constant(['Debt collection', 'Credit card or prepaid card', 'Mortgage', 'Checking or savings account', 'Student loan', 'Vehicle loan or lease']),\n",
        "        values=tf.constant([0, 1, 2, 3, 4, 5]),\n",
        "    ),\n",
        "    default_value=tf.constant(-1),\n",
        "    name=\"target_encoding\"\n",
        ")\n",
        "\n",
        "@tf.function\n",
        "def target(x):\n",
        "  return table.lookup(x)"
      ],
      "execution_count": 12,
      "outputs": []
    },
    {
      "cell_type": "code",
      "metadata": {
        "id": "cv05uLVNdDpr"
      },
      "source": [
        "def show_batch(dataset,size=5):\n",
        "  for batch,label in dataset.take(size):\n",
        "    print(batch.numpy())\n",
        "    print(target(label).numpy())"
      ],
      "execution_count": 13,
      "outputs": []
    },
    {
      "cell_type": "code",
      "metadata": {
        "id": "0GKEoYiXdDyd",
        "outputId": "a76388af-b657-49e4-d1f9-a12be5537673",
        "colab": {
          "base_uri": "https://localhost:8080/"
        }
      },
      "source": [
        "show_batch(dataset_test,6)"
      ],
      "execution_count": 14,
      "outputs": [
        {
          "output_type": "stream",
          "text": [
            "b'My loan officer, XXXX XXXX, with Mortgage Express, and realtor, XXXX XXXX, told me to apply for an owner occupied loan, when they both knew that I wanted to rent the property out, in order to take care of my XXXX year old mother. The first loan I applied for with Mortgage Express was for a rental property loan. My offer was not accepted. When I found another home I put an offer on, they told me since I would eventually live in the home ( when my mother passed away ), to apply for a owner occupied loan. When the loan closed, and I informed my home owners insurance company ( XXXX ), they told me I needed a rental policy not home owners. When I contacted XXXX XXXX she stated she knew nothing about home insurance. I plan to occupy this home AND take care of my XXXX year old mother in her home, but I do not want Mortgage Express to do this to anyone else. XXXX XXXX has left threatening messages on my cell phone when I have asked to speak to her manager. She has been trying to intimidate me. How many other complaints do you have against Mortgage Express in XXXX, Oregon?'\n",
            "2\n",
            "b\"Both my husband and I went through a financial crisis due to a XXXX XXXX he had more than 10 years ago. We were unable to pay our credit card debt and it went into collection. We had 3 credit card through XXXX XXXX, 1 through XXXX and 1 through XXXX ... 5 total. We hit the 10-year Mark since the debt last year. In XXXX we received five 1099 notices advising that the debt had been charged off and we were required to submit it as regular income on our tax returns. Which we did. It's my understanding that they can no longer try to collect that debt once it's been written off AND they have 1099d that debt requiring us to claim it as regular income as a result of bad debt. However all five cards had been assigned to XXXX like 7 or 8 years ago. Again the debt has already been charged off and we claimed it as regular income as a result of bad debt on our 2019 tax return veripro continues to call us. I don't understand how they are able to continue to collect on it when both of those other actions have already taken place. Let 's say we were able to come up with the money to pay them, it would not be fair to us as the consumer to have already claimed it as regular income and then also pay them. We are then being double hit for the debt. We don't have the money to pay them but I don't understand why they are allowed to still call us when the debt has been written off and we claimed it on our tax returns as a result of them 1099ing us all five cards. Please advise how we can get them to stop calling us. Because we each at least five calls per day from these people.\"\n",
            "0\n",
            "b\"I had contacted my Lender multiple times recently about the recent appraisal. I had faxed over the enclosed PDF about the latest appraisal report. I had spoken to someone at my lender 's PMI department but they would not accept another party ordering and want me to pay my own higher costs to them to submit to XXXX XXXX. I then contacted XXXX XXXX right away yesterday and have a case pending, number is XXXX.\"\n",
            "2\n",
            "b\"XXXX FIRST ATTEMPT. \\n\\nI RESPONDED TO THE COMPLAINT AND STILL THIS ISSUE HAS NOT BEEN RESOLVED/ TO THIS DAY THERE HAS BEEN NO VALIDTY OF THE DEBT. XXXX XXXX XXXX PREVIOUSLY WORKED UNDER ANOTHER NAME WHICH WAS RECENTLY CHANGED WHEN SPEAKING WITH XXXX  AND XXXX  THIS DEBT BUYING COMPANY WAS NOT ABLE TO PROVIDE A RECENT CONTRACT HOWEVER ACCORDING TO RESPONSE YOU SENT MY CREDIT BUREAU WAS UPDATED THE OLD CONTRACT FROM TIME OF PURCHASE DOES NOT VALIDATE A SERVICE THAT EXPIRED/ I ONCE AGAIN NEVER RENEWED MY CONTRACT THEREFORE THE CONTRACT IS NULL AND VOID. THE ORIGINALLY DOCUMENT SIGNED IS EXPIRED. THIS DEBT WAS ON MY CREDIT REPORT PREVIOUSLY THRU XXXX  THE ORIGINAL CREDITOR AND WAS REMOVED. I SEND ALL THE DOCUMENTS FROM THE XXXX  THAT SHOWS THIS COMPANY 'S NORMAL PRACTICE IS DO THIS TO CONSUMERS. XXXX Complaints Show Sort By Complaint Type : Billing/Collection Issues Status : Answered XX/XX/XXXX This company has reported erroneous information to the credit bureau as well about an account that had already been resolved from XXXX. This has also negatively impacted my credit score. I had not received any invoices or anything regarding debts owed from monitrinics. I asked for Proof if this debt and all I received was a copy of an agreement from XXXX. I do not owe this company anything. \\nComplaint Type : Billing/Collection Issues Status : Unresolved XX/XX/XXXX I have never done business with this company and they have placed me for collection with a company called XXXX. I have never had or used anything from a company called XXXX. This business places scam accounts on your file to bully you into paying a balance and never belonged to a person in the first place. They blatantly fail to adhere to the Fair Credit Act and refuse to provide ANY single document that proves their false allegation that a person owes what they allege. This is a scam. All companies are bound by the Fair Credit Act and thi THESE COMPLAINTS GO ON AND ON I'M ASKING TO HAVE THIS COMPANY INVESTIGATED AND ALSO REVIEW THE 202 COMPLAINTS FILED JUST IN THE MONTH OF XXXX. I HAVE CONTINUED TO CONACT XXXX   THRU WRITING WHICH THERE HAS BEEN NOT ONE RESPONSE. I HAVE CONTACTED AT THIS POINT AN ATTORNEY TO ALSO ASSIST ME WITH THIS MATTER.\"\n",
            "0\n",
            "b'I am a victim of identity theft and this debt does not belong to me. \\n\\nPlease see the identity theft report and legal affidavit attached.'\n",
            "0\n",
            "b'Calvary Portfolio is a secondary collection agency that apparently purchased this debt from the primary lender. Calvary Portfolio never notified me of this debt, nor did they give me the opportunity to ask for proof of this debt. This is not my account and I do not owe the money asserted by this collection agency.'\n",
            "0\n"
          ],
          "name": "stdout"
        }
      ]
    },
    {
      "cell_type": "code",
      "metadata": {
        "id": "opNGfeH5dD14"
      },
      "source": [
        "#creation of one hot encoding\n",
        "def fetch(text,labels):\n",
        "  return text,tf.one_hot(target(labels),6)\n",
        "\n",
        "train_data_f=dataset_train.map(fetch)\n",
        "test_data_f=dataset_test.map(fetch)"
      ],
      "execution_count": 15,
      "outputs": []
    },
    {
      "cell_type": "code",
      "metadata": {
        "id": "sfIEQy153fcS",
        "outputId": "ebe49132-c2be-4c8c-e326-b7db87542fbf",
        "colab": {
          "base_uri": "https://localhost:8080/"
        }
      },
      "source": [
        "next(iter(train_data_f))\n",
        "train_data,train_labels=next(iter(train_data_f.batch(5)))\n",
        "train_data,train_labels"
      ],
      "execution_count": 16,
      "outputs": [
        {
          "output_type": "execute_result",
          "data": {
            "text/plain": [
              "(<tf.Tensor: shape=(5,), dtype=string, numpy=\n",
              " array([b'am contacting Bank Of America in reference due to a balance owed from a overdraft checkings account. I am requesting for a typed document which stated the amounts owed and the also the account number associated with the overdraft amount. I am requesting for the account to be deleted from XXXX, The XXXX  XXXX  XXXX and XXXX XXXX and any other reporting system. For an agreement or exchange to pay this balance on my reports from years ago. The derogatory information you have provided in reference to this account is visible on my consumer report/file with the agencys listed above. As this is damaging my chances with any future banking relationship with other banks. Please acknowledge this written statement and send a balance and payment option document to the address you have on file or that submitted with this dispute.',\n",
              "        b'On XXXX XXXX XXXX XXXX sent {$1000.00} to my XXXX  XXXX  which had my bank account linked. On XXXX XXXX XXXX XXXX filed a dispute. I filed a dispute for my {$1000.00} back but the back but my bank declined because of XXXX  XXXX. Im not understanding why because they refunded my money before due to an XXXX  XXXX  issue. My account is now in the negative because of this. I just need this resolved ASAP its been going on two months now.',\n",
              "        b'Regarding past complaint XXXX IC Systems in that complaint acknowledged they have no lawful claim of collection and stated they would cease and desist all contact and all claims of collection, as they are unable to validate any claims. IC Systems has instead opened a credit account against the complainant in an attempt to damage complainants credit for a debt which they are not owned. IC Systems has has no agreement to future services, the debt in question is past the lawful statute of limitations having claimed origination in XX/XX/2017, and IC Systems has already conceded that even during that time they had no lawful claim for collection.',\n",
              "        b'Bank admitted to reversing my direct payment to three of my creditor for three months causing my payments to be recorded as three months past due. Because of their error my credit score has gone down drastically and they closed my account causing my direct deposit from my pension to be late which Inturn cause a snowball effect that impossible for me to recover since Im on fixed income. They are now asking me for money for the error and windfall they created by claiming unauthorized claim to reverse my monthly contract payment.',\n",
              "        b'I have a MasterCard with Citi that I have held since XX/XX/2014. I have never had an issue paying the account, have not gone delinquent. I have used the card and paid as agreed for over 5 years. During XXXX, I was distracted caring for a sick family member and forgot to make the payment for early XXXX. When I logged in and saw that I was past due I immediately made the payment. They charged a late fee. Also, within the same week, they sent me a notification that my credit line was decreased. The reason the noted in the communication was that \" they show I have high utilization of other credit accounts. \\'\\' I take offense to this tactic of taking adverse action on a long time customer who is in good standing. During a crisis where all institutions, including Citi, say they are here to help and this is how I am treated. My credit utilization has been the same for the recent 2-3 years and I am current on all of my credit accounts, mortgage and car loans. Nothing is past due. To impact my credit line, charge a late fee during a global pandemic is unacceptable. Also, on this account, I have not used it recently - which should be viewed as me being responsible and paying down this debt and other debts. My high utilization will be further impacted by Citi reducing my credit line, which in turn will show me at a higher credit utilization for this account and my overall credit profile in general. I think it is an unfair practice. I am requesting that Citi reverse this decision, restore my account, which is in good standing and paid current, never past due. I\\'d like the initial credit line to be restored and the late fee reversed.'],\n",
              "       dtype=object)>, <tf.Tensor: shape=(5, 6), dtype=float32, numpy=\n",
              " array([[0., 0., 0., 1., 0., 0.],\n",
              "        [0., 0., 0., 1., 0., 0.],\n",
              "        [1., 0., 0., 0., 0., 0.],\n",
              "        [0., 0., 0., 1., 0., 0.],\n",
              "        [0., 1., 0., 0., 0., 0.]], dtype=float32)>)"
            ]
          },
          "metadata": {
            "tags": []
          },
          "execution_count": 16
        }
      ]
    },
    {
      "cell_type": "code",
      "metadata": {
        "id": "48s0RfUu3ffP",
        "outputId": "4c4281e4-43c6-4902-af15-4b1c05b29023",
        "colab": {
          "base_uri": "https://localhost:8080/"
        }
      },
      "source": [
        "\n",
        "embedding = \"https://tfhub.dev/google/tf2-preview/nnlm-en-dim128/1\"\n",
        "hub_layer = hub.KerasLayer(embedding, output_shape=[128], input_shape=[], \n",
        "                           dtype=tf.string, trainable=True)\n",
        "hub_layer(train_data[:1])"
      ],
      "execution_count": 17,
      "outputs": [
        {
          "output_type": "execute_result",
          "data": {
            "text/plain": [
              "<tf.Tensor: shape=(1, 128), dtype=float32, numpy=\n",
              "array([[ 1.3365566e+00,  1.4613692e-01, -4.2354032e-02, -2.5150621e-01,\n",
              "        -1.1561170e-01,  1.5430607e-01, -8.3720177e-02,  2.3264247e-01,\n",
              "         1.2643227e-01,  4.1582039e-01,  1.6804273e-01, -2.2835983e-01,\n",
              "        -2.7798966e-01,  1.3967808e-01, -1.4639112e-01,  2.5525475e-02,\n",
              "        -2.2495736e-01,  1.2668982e-02, -4.3704787e-01,  1.2598745e+00,\n",
              "        -5.4309763e-02,  1.2522198e-01,  1.7858028e-02,  2.3717348e-01,\n",
              "        -3.3231676e-02, -3.6916888e-01,  8.3625101e-02, -2.0063482e-01,\n",
              "        -1.0708701e-01, -4.9423046e-02, -7.8526877e-02, -1.8613932e-01,\n",
              "        -2.3709236e-01, -2.4819662e-01,  2.1108375e-01,  7.4445799e-02,\n",
              "        -2.8739634e-01, -2.4010691e-01, -4.7701992e-02, -1.3101815e-01,\n",
              "         2.6113200e-06, -3.5220775e-01, -1.4700818e-01, -5.6435522e-02,\n",
              "         1.9818431e-01,  5.6152910e-02, -5.2523676e-02, -9.3921766e-02,\n",
              "        -5.9601028e-02, -3.3253166e-01,  6.4379163e-02, -1.8356338e-01,\n",
              "         2.4653308e-01,  2.1038646e-01, -3.4905088e-01,  1.6962092e-02,\n",
              "         1.4003617e-02, -9.1985576e-02,  2.8534505e-01, -2.0265099e-02,\n",
              "        -2.1967804e-01,  1.2993594e-02,  1.2309258e-01, -1.6417783e-02,\n",
              "        -2.8117230e-02,  2.0219486e-02, -4.2117134e-02, -9.9056765e-02,\n",
              "        -2.6256587e-02,  4.1686516e-02, -1.0578870e-01, -4.7673178e-03,\n",
              "         1.8228948e-01, -4.1341495e-02,  1.9228071e-01,  3.3215687e-01,\n",
              "        -1.8637219e-01, -4.8694724e-01,  1.3230032e-01, -6.0699265e-02,\n",
              "         3.6567277e-01,  9.1456234e-02, -1.9132608e-01, -3.7711043e-02,\n",
              "         9.5148742e-02, -1.2971880e-02, -4.7601223e-01, -1.4687037e-02,\n",
              "         3.8419309e-01,  4.5532399e-01, -2.9627075e-02,  7.3712207e-02,\n",
              "         1.5578364e-01, -1.9660677e-01,  4.1988978e-01,  2.4695107e-01,\n",
              "        -1.3656802e-01, -4.5229603e-02, -4.2259905e-01,  7.6530203e-02,\n",
              "        -3.1073189e-01,  7.2634928e-02,  4.5361273e-02,  1.3828136e-01,\n",
              "         3.5181787e-02,  2.6419548e-02, -1.8258764e-01, -1.9322243e-01,\n",
              "        -1.1811645e-01,  4.1196593e-03, -4.6321699e-01, -1.4298925e-01,\n",
              "        -1.9869155e-01, -2.5410211e-01,  2.7255419e-01, -1.9007929e-01,\n",
              "         4.8689421e-02, -8.4158935e-02, -5.9290804e-02,  1.8553989e-01,\n",
              "         1.1711919e-02, -8.8772424e-02, -8.4820859e-02,  5.2746385e-02,\n",
              "        -2.4773145e-02, -2.8215960e-02, -1.4414717e-01, -2.4954267e-02]],\n",
              "      dtype=float32)>"
            ]
          },
          "metadata": {
            "tags": []
          },
          "execution_count": 17
        }
      ]
    },
    {
      "cell_type": "code",
      "metadata": {
        "id": "LvXcJSqj3fid",
        "outputId": "894f15b8-e29e-4d07-8ac6-3356a16c0fc9",
        "colab": {
          "base_uri": "https://localhost:8080/"
        }
      },
      "source": [
        "model=tf.keras.Sequential()\n",
        "model.add(hub_layer)\n",
        "for units in [128,128,64,32]:\n",
        "  model.add(tf.keras.layers.Dense(units,activation='relu'))\n",
        "  model.add(tf.keras.layers.Dropout(0.3))\n",
        "model.add(tf.keras.layers.Dense(6,activation='softmax'))\n",
        "model.summary()"
      ],
      "execution_count": 21,
      "outputs": [
        {
          "output_type": "stream",
          "text": [
            "Model: \"sequential_1\"\n",
            "_________________________________________________________________\n",
            "Layer (type)                 Output Shape              Param #   \n",
            "=================================================================\n",
            "keras_layer (KerasLayer)     (None, 128)               124642688 \n",
            "_________________________________________________________________\n",
            "dense_5 (Dense)              (None, 128)               16512     \n",
            "_________________________________________________________________\n",
            "dropout_4 (Dropout)          (None, 128)               0         \n",
            "_________________________________________________________________\n",
            "dense_6 (Dense)              (None, 128)               16512     \n",
            "_________________________________________________________________\n",
            "dropout_5 (Dropout)          (None, 128)               0         \n",
            "_________________________________________________________________\n",
            "dense_7 (Dense)              (None, 64)                8256      \n",
            "_________________________________________________________________\n",
            "dropout_6 (Dropout)          (None, 64)                0         \n",
            "_________________________________________________________________\n",
            "dense_8 (Dense)              (None, 32)                2080      \n",
            "_________________________________________________________________\n",
            "dropout_7 (Dropout)          (None, 32)                0         \n",
            "_________________________________________________________________\n",
            "dense_9 (Dense)              (None, 6)                 198       \n",
            "=================================================================\n",
            "Total params: 124,686,246\n",
            "Trainable params: 124,686,246\n",
            "Non-trainable params: 0\n",
            "_________________________________________________________________\n"
          ],
          "name": "stdout"
        }
      ]
    },
    {
      "cell_type": "code",
      "metadata": {
        "id": "32oMNiayhD1V"
      },
      "source": [
        "model.compile(optimizer='adam',\n",
        "              loss=tf.keras.losses.CategoricalCrossentropy(from_logits=True),\n",
        "              metrics=['accuracy'])"
      ],
      "execution_count": 22,
      "outputs": []
    },
    {
      "cell_type": "code",
      "metadata": {
        "id": "-X4rSdo3hD6P"
      },
      "source": [
        "train_data_f=train_data_f.shuffle(70000).batch(512)\n",
        "test_data_f=test_data_f.batch(512)"
      ],
      "execution_count": 23,
      "outputs": []
    },
    {
      "cell_type": "code",
      "metadata": {
        "id": "69uVYAVnhEKE",
        "outputId": "6af8b4f0-7459-4442-9177-f47befce0507",
        "colab": {
          "base_uri": "https://localhost:8080/"
        }
      },
      "source": [
        "#when we give a class weight is uses a weighted class entory function and basically evaluates how good the classifier is per label rather than across all lables\n",
        "history=model.fit(train_data_f,\n",
        "                  epochs=50,\n",
        "                  validation_data=test_data_f,\n",
        "                  verbose=1,\n",
        "                  class_weight=weights)"
      ],
      "execution_count": 25,
      "outputs": [
        {
          "output_type": "stream",
          "text": [
            "Epoch 1/50\n",
            "90/90 [==============================] - 9s 101ms/step - loss: 1.6710 - accuracy: 0.3073 - val_loss: 1.3840 - val_accuracy: 0.6492\n",
            "Epoch 2/50\n",
            "90/90 [==============================] - 9s 99ms/step - loss: 1.3171 - accuracy: 0.7450 - val_loss: 1.1985 - val_accuracy: 0.8462\n",
            "Epoch 3/50\n",
            "90/90 [==============================] - 9s 100ms/step - loss: 1.1882 - accuracy: 0.8525 - val_loss: 1.1865 - val_accuracy: 0.8564\n",
            "Epoch 4/50\n",
            "90/90 [==============================] - 9s 100ms/step - loss: 1.1514 - accuracy: 0.8833 - val_loss: 1.1789 - val_accuracy: 0.8638\n",
            "Epoch 5/50\n",
            "90/90 [==============================] - 9s 99ms/step - loss: 1.1374 - accuracy: 0.8975 - val_loss: 1.1792 - val_accuracy: 0.8632\n",
            "Epoch 6/50\n",
            "90/90 [==============================] - 9s 100ms/step - loss: 1.1286 - accuracy: 0.9069 - val_loss: 1.1679 - val_accuracy: 0.8755\n",
            "Epoch 7/50\n",
            "90/90 [==============================] - 9s 100ms/step - loss: 1.1210 - accuracy: 0.9137 - val_loss: 1.1772 - val_accuracy: 0.8655\n",
            "Epoch 8/50\n",
            "90/90 [==============================] - 9s 100ms/step - loss: 1.1152 - accuracy: 0.9187 - val_loss: 1.1715 - val_accuracy: 0.8716\n",
            "Epoch 9/50\n",
            "90/90 [==============================] - 9s 99ms/step - loss: 1.1119 - accuracy: 0.9198 - val_loss: 1.1678 - val_accuracy: 0.8748\n",
            "Epoch 10/50\n",
            "90/90 [==============================] - 9s 99ms/step - loss: 1.1066 - accuracy: 0.9273 - val_loss: 1.1684 - val_accuracy: 0.8741\n",
            "Epoch 11/50\n",
            "90/90 [==============================] - 9s 99ms/step - loss: 1.1051 - accuracy: 0.9302 - val_loss: 1.1668 - val_accuracy: 0.8755\n",
            "Epoch 12/50\n",
            "90/90 [==============================] - 9s 101ms/step - loss: 1.1031 - accuracy: 0.9309 - val_loss: 1.1658 - val_accuracy: 0.8769\n",
            "Epoch 13/50\n",
            "90/90 [==============================] - 9s 99ms/step - loss: 1.0998 - accuracy: 0.9350 - val_loss: 1.1714 - val_accuracy: 0.8709\n",
            "Epoch 14/50\n",
            "90/90 [==============================] - 9s 99ms/step - loss: 1.0989 - accuracy: 0.9353 - val_loss: 1.1713 - val_accuracy: 0.8711\n",
            "Epoch 15/50\n",
            "90/90 [==============================] - 9s 101ms/step - loss: 1.0986 - accuracy: 0.9365 - val_loss: 1.1657 - val_accuracy: 0.8778\n",
            "Epoch 16/50\n",
            "90/90 [==============================] - 9s 100ms/step - loss: 1.0990 - accuracy: 0.9359 - val_loss: 1.1658 - val_accuracy: 0.8774\n",
            "Epoch 17/50\n",
            "90/90 [==============================] - 9s 99ms/step - loss: 1.0977 - accuracy: 0.9377 - val_loss: 1.1662 - val_accuracy: 0.8769\n",
            "Epoch 18/50\n",
            "90/90 [==============================] - 9s 99ms/step - loss: 1.0953 - accuracy: 0.9412 - val_loss: 1.1703 - val_accuracy: 0.8728\n",
            "Epoch 19/50\n",
            "90/90 [==============================] - 9s 99ms/step - loss: 1.0968 - accuracy: 0.9405 - val_loss: 1.1742 - val_accuracy: 0.8692\n",
            "Epoch 20/50\n",
            "90/90 [==============================] - 9s 100ms/step - loss: 1.0950 - accuracy: 0.9417 - val_loss: 1.1699 - val_accuracy: 0.8731\n",
            "Epoch 21/50\n",
            "90/90 [==============================] - 9s 99ms/step - loss: 1.0949 - accuracy: 0.9414 - val_loss: 1.1710 - val_accuracy: 0.8718\n",
            "Epoch 22/50\n",
            "90/90 [==============================] - 9s 99ms/step - loss: 1.0947 - accuracy: 0.9420 - val_loss: 1.1757 - val_accuracy: 0.8673\n",
            "Epoch 23/50\n",
            "90/90 [==============================] - 9s 100ms/step - loss: 1.0942 - accuracy: 0.9412 - val_loss: 1.1724 - val_accuracy: 0.8706\n",
            "Epoch 24/50\n",
            "90/90 [==============================] - 9s 100ms/step - loss: 1.0952 - accuracy: 0.9403 - val_loss: 1.1709 - val_accuracy: 0.8717\n",
            "Epoch 25/50\n",
            "90/90 [==============================] - 9s 98ms/step - loss: 1.0931 - accuracy: 0.9425 - val_loss: 1.1793 - val_accuracy: 0.8635\n",
            "Epoch 26/50\n",
            "90/90 [==============================] - 9s 99ms/step - loss: 1.0939 - accuracy: 0.9451 - val_loss: 1.1668 - val_accuracy: 0.8764\n",
            "Epoch 27/50\n",
            "90/90 [==============================] - 9s 99ms/step - loss: 1.0943 - accuracy: 0.9450 - val_loss: 1.1674 - val_accuracy: 0.8759\n",
            "Epoch 28/50\n",
            "90/90 [==============================] - 9s 100ms/step - loss: 1.0931 - accuracy: 0.9461 - val_loss: 1.1712 - val_accuracy: 0.8721\n",
            "Epoch 29/50\n",
            "90/90 [==============================] - 9s 99ms/step - loss: 1.0924 - accuracy: 0.9469 - val_loss: 1.1706 - val_accuracy: 0.8722\n",
            "Epoch 30/50\n",
            "90/90 [==============================] - 9s 100ms/step - loss: 1.0920 - accuracy: 0.9475 - val_loss: 1.1694 - val_accuracy: 0.8737\n",
            "Epoch 31/50\n",
            "90/90 [==============================] - 9s 99ms/step - loss: 1.0933 - accuracy: 0.9454 - val_loss: 1.1770 - val_accuracy: 0.8662\n",
            "Epoch 32/50\n",
            "90/90 [==============================] - 9s 100ms/step - loss: 1.0927 - accuracy: 0.9480 - val_loss: 1.1751 - val_accuracy: 0.8681\n",
            "Epoch 33/50\n",
            "90/90 [==============================] - 9s 99ms/step - loss: 1.0918 - accuracy: 0.9473 - val_loss: 1.1692 - val_accuracy: 0.8744\n",
            "Epoch 34/50\n",
            "90/90 [==============================] - 9s 99ms/step - loss: 1.0908 - accuracy: 0.9486 - val_loss: 1.1705 - val_accuracy: 0.8723\n",
            "Epoch 35/50\n",
            "90/90 [==============================] - 9s 98ms/step - loss: 1.0914 - accuracy: 0.9487 - val_loss: 1.1716 - val_accuracy: 0.8716\n",
            "Epoch 36/50\n",
            "90/90 [==============================] - 9s 99ms/step - loss: 1.0903 - accuracy: 0.9500 - val_loss: 1.1681 - val_accuracy: 0.8747\n",
            "Epoch 37/50\n",
            "90/90 [==============================] - 9s 99ms/step - loss: 1.0925 - accuracy: 0.9486 - val_loss: 1.1756 - val_accuracy: 0.8675\n",
            "Epoch 38/50\n",
            "90/90 [==============================] - 9s 100ms/step - loss: 1.0917 - accuracy: 0.9507 - val_loss: 1.1674 - val_accuracy: 0.8759\n",
            "Epoch 39/50\n",
            "90/90 [==============================] - 9s 99ms/step - loss: 1.0909 - accuracy: 0.9502 - val_loss: 1.1699 - val_accuracy: 0.8732\n",
            "Epoch 40/50\n",
            "90/90 [==============================] - 9s 100ms/step - loss: 1.0892 - accuracy: 0.9512 - val_loss: 1.1718 - val_accuracy: 0.8716\n",
            "Epoch 41/50\n",
            "90/90 [==============================] - 9s 99ms/step - loss: 1.0893 - accuracy: 0.9523 - val_loss: 1.1741 - val_accuracy: 0.8691\n",
            "Epoch 42/50\n",
            "90/90 [==============================] - 9s 99ms/step - loss: 1.0891 - accuracy: 0.9511 - val_loss: 1.1694 - val_accuracy: 0.8738\n",
            "Epoch 43/50\n",
            "90/90 [==============================] - 9s 99ms/step - loss: 1.0911 - accuracy: 0.9500 - val_loss: 1.1757 - val_accuracy: 0.8677\n",
            "Epoch 44/50\n",
            "90/90 [==============================] - 9s 99ms/step - loss: 1.0890 - accuracy: 0.9529 - val_loss: 1.1700 - val_accuracy: 0.8733\n",
            "Epoch 45/50\n",
            "90/90 [==============================] - 9s 99ms/step - loss: 1.0889 - accuracy: 0.9524 - val_loss: 1.1727 - val_accuracy: 0.8708\n",
            "Epoch 46/50\n",
            "90/90 [==============================] - 9s 100ms/step - loss: 1.0892 - accuracy: 0.9515 - val_loss: 1.1693 - val_accuracy: 0.8740\n",
            "Epoch 47/50\n",
            "90/90 [==============================] - 9s 101ms/step - loss: 1.0882 - accuracy: 0.9525 - val_loss: 1.1706 - val_accuracy: 0.8728\n",
            "Epoch 48/50\n",
            "90/90 [==============================] - 9s 99ms/step - loss: 1.0884 - accuracy: 0.9528 - val_loss: 1.1712 - val_accuracy: 0.8722\n",
            "Epoch 49/50\n",
            "90/90 [==============================] - 9s 100ms/step - loss: 1.0892 - accuracy: 0.9518 - val_loss: 1.1778 - val_accuracy: 0.8655\n",
            "Epoch 50/50\n",
            "90/90 [==============================] - 9s 100ms/step - loss: 1.0887 - accuracy: 0.9514 - val_loss: 1.1708 - val_accuracy: 0.8718\n"
          ],
          "name": "stdout"
        }
      ]
    },
    {
      "cell_type": "code",
      "metadata": {
        "id": "30hXNrYihEJG",
        "outputId": "3696e3a9-ca6b-4e44-948e-5a9012d865b8",
        "colab": {
          "base_uri": "https://localhost:8080/"
        }
      },
      "source": [
        "\n",
        "results=model.evaluate(dataset_test.map(fetch).batch(len(list(dataset_test))),verbose=2)\n",
        "print(results)"
      ],
      "execution_count": 27,
      "outputs": [
        {
          "output_type": "stream",
          "text": [
            "1/1 - 0s - loss: 1.1708 - accuracy: 0.8718\n",
            "[1.1708319187164307, 0.8718127012252808]\n"
          ],
          "name": "stdout"
        }
      ]
    },
    {
      "cell_type": "code",
      "metadata": {
        "id": "y_d2Wy_whD5B"
      },
      "source": [
        "#the batch value is given to but it take the max value of records avaialble in batch\n",
        "test_data,test_labels=next(iter(dataset_test.map(fetch).batch(45963)))"
      ],
      "execution_count": 28,
      "outputs": []
    },
    {
      "cell_type": "code",
      "metadata": {
        "id": "r8P3dhushDzE"
      },
      "source": [
        "y_pred=model.predict(test_data)"
      ],
      "execution_count": 29,
      "outputs": []
    },
    {
      "cell_type": "code",
      "metadata": {
        "id": "pV3yLXoEsKb_",
        "outputId": "e570dab2-3efa-43f6-f062-08d70c024704",
        "colab": {
          "base_uri": "https://localhost:8080/"
        }
      },
      "source": [
        "from sklearn.metrics import classification_report\n",
        "#Using argmax=1 as we are are using fetch fiunction which does one hot encoding.\n",
        "print(classification_report(test_labels.numpy().argmax(axis=1),y_pred.argmax(axis=1)))"
      ],
      "execution_count": 30,
      "outputs": [
        {
          "output_type": "stream",
          "text": [
            "              precision    recall  f1-score   support\n",
            "\n",
            "           0       0.93      0.89      0.91      4312\n",
            "           1       0.82      0.88      0.85      2642\n",
            "           2       0.89      0.93      0.91      1994\n",
            "           3       0.84      0.81      0.83      1362\n",
            "           4       0.82      0.81      0.82       595\n",
            "           5       0.73      0.73      0.73       586\n",
            "\n",
            "    accuracy                           0.87     11491\n",
            "   macro avg       0.84      0.84      0.84     11491\n",
            "weighted avg       0.87      0.87      0.87     11491\n",
            "\n"
          ],
          "name": "stdout"
        }
      ]
    },
    {
      "cell_type": "code",
      "metadata": {
        "id": "VzU0etCEsoqI",
        "outputId": "b25dfda7-586a-4714-ce45-7d4b492f55a6",
        "colab": {
          "base_uri": "https://localhost:8080/"
        }
      },
      "source": [
        "#One can use the this two data and compare wwith the results using without using class weights and see the difference.\n",
        "#The class weights basically assgns weightage to different calsses giving more weightage to minority and lesser to majority classes.The majority are penalized and the minority classes is giving more importasnve so the classes of these minority classes can be better.\n",
        "from sklearn.metrics import confusion_matrix\n",
        "confusion_matrix(test_labels.numpy().argmax(axis=1),y_pred.argmax(axis=1))"
      ],
      "execution_count": 31,
      "outputs": [
        {
          "output_type": "execute_result",
          "data": {
            "text/plain": [
              "array([[3828,  177,  119,   41,   71,   76],\n",
              "       [ 128, 2321,   27,  138,    7,   21],\n",
              "       [  28,   43, 1853,   19,   18,   33],\n",
              "       [  29,  185,   28, 1105,    3,   12],\n",
              "       [  36,   35,   24,    2,  483,   15],\n",
              "       [  55,   63,   25,    9,    6,  428]])"
            ]
          },
          "metadata": {
            "tags": []
          },
          "execution_count": 31
        }
      ]
    },
    {
      "cell_type": "code",
      "metadata": {
        "id": "gtOkjK7ysov6"
      },
      "source": [
        ""
      ],
      "execution_count": null,
      "outputs": []
    },
    {
      "cell_type": "code",
      "metadata": {
        "id": "8RpJRSCPsouR"
      },
      "source": [
        ""
      ],
      "execution_count": null,
      "outputs": []
    },
    {
      "cell_type": "code",
      "metadata": {
        "id": "oAof_PUbsKgm"
      },
      "source": [
        ""
      ],
      "execution_count": null,
      "outputs": []
    },
    {
      "cell_type": "code",
      "metadata": {
        "id": "seq95FqisKZv"
      },
      "source": [
        ""
      ],
      "execution_count": null,
      "outputs": []
    }
  ]
}