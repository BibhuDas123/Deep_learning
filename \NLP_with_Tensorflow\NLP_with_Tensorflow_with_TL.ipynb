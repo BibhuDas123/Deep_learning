{
  "nbformat": 4,
  "nbformat_minor": 0,
  "metadata": {
    "colab": {
      "name": "NLP with Tensorflow_with_TL.ipynb",
      "provenance": [],
      "authorship_tag": "ABX9TyNbR0FAwvPWkF0+wBNGxQCS",
      "include_colab_link": true
    },
    "kernelspec": {
      "name": "python3",
      "display_name": "Python 3"
    }
  },
  "cells": [
    {
      "cell_type": "markdown",
      "metadata": {
        "id": "view-in-github",
        "colab_type": "text"
      },
      "source": [
        "<a href=\"https://colab.research.google.com/github/BibhuDas123/Deep_learning/blob/master/%5CNLP_with_Tensorflow%5CNLP_with_Tensorflow_with_TL.ipynb\" target=\"_parent\"><img src=\"https://colab.research.google.com/assets/colab-badge.svg\" alt=\"Open In Colab\"/></a>"
      ]
    },
    {
      "cell_type": "code",
      "metadata": {
        "id": "CEt5IdyLbVXr",
        "colab_type": "code",
        "colab": {}
      },
      "source": [
        "from __future__ import absolute_import,division,print_function,unicode_literals\n",
        "import tensorflow as tf\n",
        "import os\n",
        "import datetime\n",
        "import tensorflow_datasets as tfds\n",
        "import tensorflow_hub as hub\n",
        "import numpy as np"
      ],
      "execution_count": 40,
      "outputs": []
    },
    {
      "cell_type": "code",
      "metadata": {
        "id": "HVaMSeA9bwc3",
        "colab_type": "code",
        "colab": {}
      },
      "source": [
        "datasets,info=tfds.load('amazon_us_reviews/Major_Appliances_v1_00',with_info=True,split=('train[:70%]','train[70%:85%]','train[85%:]'))"
      ],
      "execution_count": 41,
      "outputs": []
    },
    {
      "cell_type": "code",
      "metadata": {
        "id": "Q-0DUXsGch1a",
        "colab_type": "code",
        "colab": {
          "base_uri": "https://localhost:8080/",
          "height": 955
        },
        "outputId": "2c9af51e-2d2e-4063-f957-3f3012996918"
      },
      "source": [
        "info"
      ],
      "execution_count": 42,
      "outputs": [
        {
          "output_type": "execute_result",
          "data": {
            "text/plain": [
              "tfds.core.DatasetInfo(\n",
              "    name='amazon_us_reviews',\n",
              "    version=0.1.0,\n",
              "    description='Amazon Customer Reviews (a.k.a. Product Reviews) is one of Amazons iconic products. In a period of over two decades since the first review in 1995, millions of Amazon customers have contributed over a hundred million reviews to express opinions and describe their experiences regarding products on the Amazon.com website. This makes Amazon Customer Reviews a rich source of information for academic researchers in the fields of Natural Language Processing (NLP), Information Retrieval (IR), and Machine Learning (ML), amongst others. Accordingly, we are releasing this data to further research in multiple disciplines related to understanding customer product experiences. Specifically, this dataset was constructed to represent a sample of customer evaluations and opinions, variation in the perception of a product across geographical regions, and promotional intent or bias in reviews.\n",
              "\n",
              "Over 130+ million customer reviews are available to researchers as part of this release. The data is available in TSV files in the amazon-reviews-pds S3 bucket in AWS US East Region. Each line in the data files corresponds to an individual review (tab delimited, with no quote and escape characters).\n",
              "\n",
              "Each Dataset contains the following columns : \n",
              "  marketplace       - 2 letter country code of the marketplace where the review was written.\n",
              "  customer_id       - Random identifier that can be used to aggregate reviews written by a single author.\n",
              "  review_id         - The unique ID of the review.\n",
              "  product_id        - The unique Product ID the review pertains to. In the multilingual dataset the reviews\n",
              "                      for the same product in different countries can be grouped by the same product_id.\n",
              "  product_parent    - Random identifier that can be used to aggregate reviews for the same product.\n",
              "  product_title     - Title of the product.\n",
              "  product_category  - Broad product category that can be used to group reviews \n",
              "                      (also used to group the dataset into coherent parts).\n",
              "  star_rating       - The 1-5 star rating of the review.\n",
              "  helpful_votes     - Number of helpful votes.\n",
              "  total_votes       - Number of total votes the review received.\n",
              "  vine              - Review was written as part of the Vine program.\n",
              "  verified_purchase - The review is on a verified purchase.\n",
              "  review_headline   - The title of the review.\n",
              "  review_body       - The review text.\n",
              "  review_date       - The date the review was written.\n",
              "',\n",
              "    homepage='https://s3.amazonaws.com/amazon-reviews-pds/readme.html',\n",
              "    features=FeaturesDict({\n",
              "        'data': FeaturesDict({\n",
              "            'customer_id': tf.string,\n",
              "            'helpful_votes': tf.int32,\n",
              "            'marketplace': tf.string,\n",
              "            'product_category': tf.string,\n",
              "            'product_id': tf.string,\n",
              "            'product_parent': tf.string,\n",
              "            'product_title': tf.string,\n",
              "            'review_body': tf.string,\n",
              "            'review_date': tf.string,\n",
              "            'review_headline': tf.string,\n",
              "            'review_id': tf.string,\n",
              "            'star_rating': tf.int32,\n",
              "            'total_votes': tf.int32,\n",
              "            'verified_purchase': ClassLabel(shape=(), dtype=tf.int64, num_classes=2),\n",
              "            'vine': ClassLabel(shape=(), dtype=tf.int64, num_classes=2),\n",
              "        }),\n",
              "    }),\n",
              "    total_num_examples=96901,\n",
              "    splits={\n",
              "        'train': 96901,\n",
              "    },\n",
              "    supervised_keys=None,\n",
              "    citation=\"\"\"\"\"\",\n",
              "    redistribution_info=,\n",
              ")"
            ]
          },
          "metadata": {
            "tags": []
          },
          "execution_count": 42
        }
      ]
    },
    {
      "cell_type": "code",
      "metadata": {
        "id": "kSi6bhQTbwZs",
        "colab_type": "code",
        "colab": {}
      },
      "source": [
        "train_dataset=datasets[0]\n",
        "test_dataset=datasets[1]\n",
        "val_dataset=datasets[2]"
      ],
      "execution_count": 43,
      "outputs": []
    },
    {
      "cell_type": "code",
      "metadata": {
        "id": "GVz1-lJubwWJ",
        "colab_type": "code",
        "colab": {
          "base_uri": "https://localhost:8080/",
          "height": 71
        },
        "outputId": "0c5c2e83-46db-4762-8870-e38eefe816a5"
      },
      "source": [
        "for reviews in train_dataset.take(2):\n",
        "  print(reviews)"
      ],
      "execution_count": 44,
      "outputs": [
        {
          "output_type": "stream",
          "text": [
            "{'data': {'customer_id': <tf.Tensor: shape=(), dtype=string, numpy=b'48220985'>, 'helpful_votes': <tf.Tensor: shape=(), dtype=int32, numpy=0>, 'marketplace': <tf.Tensor: shape=(), dtype=string, numpy=b'US'>, 'product_category': <tf.Tensor: shape=(), dtype=string, numpy=b'Major Appliances'>, 'product_id': <tf.Tensor: shape=(), dtype=string, numpy=b'B002ZD5I16'>, 'product_parent': <tf.Tensor: shape=(), dtype=string, numpy=b'476878110'>, 'product_title': <tf.Tensor: shape=(), dtype=string, numpy=b'Whirlpool Part Number 4388736: DRUM'>, 'review_body': <tf.Tensor: shape=(), dtype=string, numpy=b'Just was described, works great, fast shipping!!'>, 'review_date': <tf.Tensor: shape=(), dtype=string, numpy=b'2015-04-08'>, 'review_headline': <tf.Tensor: shape=(), dtype=string, numpy=b'Perfect Fit'>, 'review_id': <tf.Tensor: shape=(), dtype=string, numpy=b'R2PIXJFK315V9F'>, 'star_rating': <tf.Tensor: shape=(), dtype=int32, numpy=5>, 'total_votes': <tf.Tensor: shape=(), dtype=int32, numpy=0>, 'verified_purchase': <tf.Tensor: shape=(), dtype=int64, numpy=0>, 'vine': <tf.Tensor: shape=(), dtype=int64, numpy=1>}}\n",
            "{'data': {'customer_id': <tf.Tensor: shape=(), dtype=string, numpy=b'5704063'>, 'helpful_votes': <tf.Tensor: shape=(), dtype=int32, numpy=0>, 'marketplace': <tf.Tensor: shape=(), dtype=string, numpy=b'US'>, 'product_category': <tf.Tensor: shape=(), dtype=string, numpy=b'Major Appliances'>, 'product_id': <tf.Tensor: shape=(), dtype=string, numpy=b'B00JG8B42K'>, 'product_parent': <tf.Tensor: shape=(), dtype=string, numpy=b'672722354'>, 'product_title': <tf.Tensor: shape=(), dtype=string, numpy=b'OnePurify RFC0800A Water Filter Replacement Cartridge, 2 Pack'>, 'review_body': <tf.Tensor: shape=(), dtype=string, numpy=b'Amazing replacement! I kept buying the exspensive name brand filters and decided to try this out. You could not tell the difference! Awesome product!'>, 'review_date': <tf.Tensor: shape=(), dtype=string, numpy=b'2015-08-18'>, 'review_headline': <tf.Tensor: shape=(), dtype=string, numpy=b'Great Filter!'>, 'review_id': <tf.Tensor: shape=(), dtype=string, numpy=b'R2OG8RWMJQBPEH'>, 'star_rating': <tf.Tensor: shape=(), dtype=int32, numpy=5>, 'total_votes': <tf.Tensor: shape=(), dtype=int32, numpy=0>, 'verified_purchase': <tf.Tensor: shape=(), dtype=int64, numpy=0>, 'vine': <tf.Tensor: shape=(), dtype=int64, numpy=1>}}\n"
          ],
          "name": "stdout"
        }
      ]
    },
    {
      "cell_type": "code",
      "metadata": {
        "id": "0Rw8HqPZbwTL",
        "colab_type": "code",
        "colab": {}
      },
      "source": [
        "def target(x):\n",
        "  if x>3:\n",
        "    return 1\n",
        "  else:\n",
        "    return 0\n"
      ],
      "execution_count": 10,
      "outputs": []
    },
    {
      "cell_type": "code",
      "metadata": {
        "id": "JQR8DPPYbwQI",
        "colab_type": "code",
        "colab": {
          "base_uri": "https://localhost:8080/",
          "height": 292
        },
        "outputId": "4dbc4526-6899-4b26-da1b-d5df862614c7"
      },
      "source": [
        "for reviews in train_dataset.take(5):\n",
        "  review_text=reviews['data']\n",
        "  print(review_text.get('review_body').numpy())\n",
        "  star_rating=review_text.get('star_rating')\n",
        "  print(star_rating)\n",
        "  print(target(star_rating))\n"
      ],
      "execution_count": 45,
      "outputs": [
        {
          "output_type": "stream",
          "text": [
            "b'Just was described, works great, fast shipping!!'\n",
            "tf.Tensor(5, shape=(), dtype=int32)\n",
            "1\n",
            "b'Amazing replacement! I kept buying the exspensive name brand filters and decided to try this out. You could not tell the difference! Awesome product!'\n",
            "tf.Tensor(5, shape=(), dtype=int32)\n",
            "1\n",
            "b\"The round rubbers that holds the spin dryer usually break down into pieces that your spin dryer doesn't turned due to balance.. Good product keeping your clothes dry quickly, but bad because of the rubber shies break up..\"\n",
            "tf.Tensor(2, shape=(), dtype=int32)\n",
            "0\n",
            "b\"Absolutely love my new laundry pod! The only thing that would make me love it more was if there was a left-handed option available. The green grip on the cover is awesome for my right-handed boyfriend; not so much for me. Granted, I could use it backwards, but it's so much cuter front facing!\"\n",
            "tf.Tensor(5, shape=(), dtype=int32)\n",
            "1\n",
            "b'We have had this refrigerator for 1 year.  The repairmen have come out 3 times and the ice maker/water dispenser still is not right.  Water freezes up in the top of the refrigerator; ice collects on everything in the freezer.  It is also noisy.  I could not recommend this product to anyone!'\n",
            "tf.Tensor(1, shape=(), dtype=int32)\n",
            "0\n"
          ],
          "name": "stdout"
        }
      ]
    },
    {
      "cell_type": "code",
      "metadata": {
        "id": "V8quOZxBbwM1",
        "colab_type": "code",
        "colab": {}
      },
      "source": [
        "def fetch(tensor):\n",
        "  text=tensor['data'].get('review_body')\n",
        "  label=target(tensor['data'].get('star_rating'))\n",
        "  return text,label"
      ],
      "execution_count": 46,
      "outputs": []
    },
    {
      "cell_type": "code",
      "metadata": {
        "id": "xvq7llqabwJq",
        "colab_type": "code",
        "colab": {}
      },
      "source": [
        "train_data_f=train_dataset.map(fetch)\n",
        "test_data_f=test_dataset.map(fetch)\n",
        "val_data_f=val_dataset.map(fetch)"
      ],
      "execution_count": 47,
      "outputs": []
    },
    {
      "cell_type": "code",
      "metadata": {
        "id": "zqvpoEHabwGG",
        "colab_type": "code",
        "colab": {
          "base_uri": "https://localhost:8080/",
          "height": 156
        },
        "outputId": "7014c559-5b27-4967-acf7-0ff881ac516e"
      },
      "source": [
        "train_data,train_labels=next(iter(train_data_f.batch(5)))\n",
        "train_data"
      ],
      "execution_count": 48,
      "outputs": [
        {
          "output_type": "execute_result",
          "data": {
            "text/plain": [
              "<tf.Tensor: shape=(5,), dtype=string, numpy=\n",
              "array([b'Just was described, works great, fast shipping!!',\n",
              "       b'Amazing replacement! I kept buying the exspensive name brand filters and decided to try this out. You could not tell the difference! Awesome product!',\n",
              "       b\"The round rubbers that holds the spin dryer usually break down into pieces that your spin dryer doesn't turned due to balance.. Good product keeping your clothes dry quickly, but bad because of the rubber shies break up..\",\n",
              "       b\"Absolutely love my new laundry pod! The only thing that would make me love it more was if there was a left-handed option available. The green grip on the cover is awesome for my right-handed boyfriend; not so much for me. Granted, I could use it backwards, but it's so much cuter front facing!\",\n",
              "       b'We have had this refrigerator for 1 year.  The repairmen have come out 3 times and the ice maker/water dispenser still is not right.  Water freezes up in the top of the refrigerator; ice collects on everything in the freezer.  It is also noisy.  I could not recommend this product to anyone!'],\n",
              "      dtype=object)>"
            ]
          },
          "metadata": {
            "tags": []
          },
          "execution_count": 48
        }
      ]
    },
    {
      "cell_type": "code",
      "metadata": {
        "id": "q8mup8pjbwCq",
        "colab_type": "code",
        "colab": {
          "base_uri": "https://localhost:8080/",
          "height": 34
        },
        "outputId": "f5315e3e-b18a-4285-b6e6-925c1d3d45dd"
      },
      "source": [
        "train_labels"
      ],
      "execution_count": 49,
      "outputs": [
        {
          "output_type": "execute_result",
          "data": {
            "text/plain": [
              "<tf.Tensor: shape=(5,), dtype=int32, numpy=array([1, 1, 0, 1, 0], dtype=int32)>"
            ]
          },
          "metadata": {
            "tags": []
          },
          "execution_count": 49
        }
      ]
    },
    {
      "cell_type": "code",
      "metadata": {
        "id": "VtkphnC8bv-d",
        "colab_type": "code",
        "colab": {
          "base_uri": "https://localhost:8080/",
          "height": 476
        },
        "outputId": "5cfeb54d-df06-4a7c-fa22-15ff01b65aeb"
      },
      "source": [
        "embedding='https://tfhub.dev/google/tf2-preview/nnlm-en-dim128-with-normalization/1'\n",
        "hub_layer=hub.KerasLayer(embedding,input_shape=[],dtype=tf.string,trainable=True)\n",
        "hub_layer(train_data[:1])"
      ],
      "execution_count": 50,
      "outputs": [
        {
          "output_type": "execute_result",
          "data": {
            "text/plain": [
              "<tf.Tensor: shape=(1, 128), dtype=float32, numpy=\n",
              "array([[ 0.22712293, -0.04044884,  0.01981788,  0.12293088, -0.01956631,\n",
              "        -0.07215592,  0.0999354 , -0.02269012,  0.06228581,  0.03487423,\n",
              "         0.08390489,  0.01938753, -0.06078235, -0.08141041, -0.08112923,\n",
              "         0.12206675, -0.05444637,  0.01776398,  0.06085176,  0.00782775,\n",
              "         0.13016488, -0.08578901,  0.07075448,  0.09239391,  0.03195481,\n",
              "        -0.18742383,  0.08335388, -0.07610522,  0.13958925,  0.08128966,\n",
              "        -0.06690247,  0.02422436, -0.08120105,  0.16699426,  0.07105717,\n",
              "         0.04976164,  0.06158045, -0.05609883,  0.03094825,  0.1630568 ,\n",
              "         0.06370129, -0.07717431, -0.01477074, -0.01505845,  0.05466522,\n",
              "         0.06274084,  0.0147941 , -0.1173359 ,  0.08766245,  0.10317444,\n",
              "         0.12939715, -0.06983662, -0.05874728,  0.01237082,  0.00365009,\n",
              "        -0.00051225,  0.07233465, -0.10375941,  0.02632711, -0.2072623 ,\n",
              "         0.09365123,  0.00211447,  0.07495772, -0.11837892,  0.01267919,\n",
              "         0.14803553,  0.02019978, -0.030454  ,  0.05338849, -0.02874284,\n",
              "        -0.1019747 ,  0.04532407,  0.01911515, -0.11947678,  0.09480251,\n",
              "        -0.01735986, -0.1341659 , -0.03798663, -0.06522162, -0.01767355,\n",
              "         0.01567739,  0.03472718,  0.08491082, -0.03693417,  0.10081708,\n",
              "         0.09873003, -0.08060622,  0.05690539,  0.3604983 ,  0.32511604,\n",
              "        -0.12140055, -0.02421217, -0.00125127, -0.15327841,  0.05245315,\n",
              "        -0.0622358 ,  0.08321037, -0.01983964,  0.02651402, -0.04494258,\n",
              "         0.01592902,  0.08908289, -0.07027521,  0.04881584,  0.09350318,\n",
              "         0.0620639 , -0.13007964,  0.06012205,  0.04009869,  0.05830005,\n",
              "         0.0261461 , -0.1049871 , -0.25096172,  0.06096819, -0.07809339,\n",
              "        -0.14383797,  0.09252802,  0.15986758,  0.07056952,  0.09795734,\n",
              "         0.10724224, -0.15274477, -0.10694232,  0.167391  ,  0.03543429,\n",
              "         0.04296179,  0.15180299, -0.05174243]], dtype=float32)>"
            ]
          },
          "metadata": {
            "tags": []
          },
          "execution_count": 50
        }
      ]
    },
    {
      "cell_type": "code",
      "metadata": {
        "id": "DYS71R19j313",
        "colab_type": "code",
        "colab": {}
      },
      "source": [
        "model = tf.keras.Sequential()\n",
        "model.add(hub_layer)\n",
        "model.add(tf.keras.layers.Dense(16, activation='relu'))\n",
        "model.add(tf.keras.layers.Dropout(0.25))\n",
        "model.add(tf.keras.layers.Dense(1, activation='sigmoid'))"
      ],
      "execution_count": 51,
      "outputs": []
    },
    {
      "cell_type": "code",
      "metadata": {
        "id": "q9m9n2azj3x4",
        "colab_type": "code",
        "colab": {
          "base_uri": "https://localhost:8080/",
          "height": 289
        },
        "outputId": "3092f705-07e9-4773-931c-6ae05b4bc906"
      },
      "source": [
        "model.summary()"
      ],
      "execution_count": 52,
      "outputs": [
        {
          "output_type": "stream",
          "text": [
            "Model: \"sequential_1\"\n",
            "_________________________________________________________________\n",
            "Layer (type)                 Output Shape              Param #   \n",
            "=================================================================\n",
            "keras_layer_1 (KerasLayer)   (None, 128)               124642688 \n",
            "_________________________________________________________________\n",
            "dense_2 (Dense)              (None, 16)                2064      \n",
            "_________________________________________________________________\n",
            "dropout_1 (Dropout)          (None, 16)                0         \n",
            "_________________________________________________________________\n",
            "dense_3 (Dense)              (None, 1)                 17        \n",
            "=================================================================\n",
            "Total params: 124,644,769\n",
            "Trainable params: 124,644,769\n",
            "Non-trainable params: 0\n",
            "_________________________________________________________________\n"
          ],
          "name": "stdout"
        }
      ]
    },
    {
      "cell_type": "code",
      "metadata": {
        "id": "YKc05c08j3tN",
        "colab_type": "code",
        "colab": {}
      },
      "source": [
        "model.compile(optimizer='adam',loss=tf.keras.losses.BinaryCrossentropy(from_logits=True),metrics=['accuracy'])\n"
      ],
      "execution_count": 53,
      "outputs": []
    },
    {
      "cell_type": "code",
      "metadata": {
        "id": "3-Kq4Eknj3o9",
        "colab_type": "code",
        "colab": {}
      },
      "source": [
        "train_data_f=train_data_f.shuffle(7000).batch(512)\n",
        "val_data_f=val_data_f.batch(512)"
      ],
      "execution_count": 54,
      "outputs": []
    },
    {
      "cell_type": "code",
      "metadata": {
        "id": "2qNSRS3Rj3kt",
        "colab_type": "code",
        "colab": {
          "base_uri": "https://localhost:8080/",
          "height": 102
        },
        "outputId": "002c5191-74ae-4176-87f6-8f171a1d1cd2"
      },
      "source": [
        "history=model.fit(train_data_f,epochs=2,validation_data=val_data_f,verbose=1)\n",
        "result=model.evaluate(test_data_f.batch(512),verbose=2)"
      ],
      "execution_count": 55,
      "outputs": [
        {
          "output_type": "stream",
          "text": [
            "Epoch 1/2\n",
            "133/133 [==============================] - 174s 1s/step - loss: 0.5572 - accuracy: 0.7837 - val_loss: 0.5039 - val_accuracy: 0.8800\n",
            "Epoch 2/2\n",
            "133/133 [==============================] - 168s 1s/step - loss: 0.4949 - accuracy: 0.8943 - val_loss: 0.4929 - val_accuracy: 0.8918\n",
            "29/29 - 5s - loss: 0.4943 - accuracy: 0.8922\n"
          ],
          "name": "stdout"
        }
      ]
    },
    {
      "cell_type": "code",
      "metadata": {
        "id": "oLJ3lUZvj3e9",
        "colab_type": "code",
        "colab": {}
      },
      "source": [
        "print(results)"
      ],
      "execution_count": null,
      "outputs": []
    },
    {
      "cell_type": "code",
      "metadata": {
        "id": "UW3GitdGj3UH",
        "colab_type": "code",
        "colab": {
          "base_uri": "https://localhost:8080/",
          "height": 527
        },
        "outputId": "83405744-60cf-46e3-f732-8818bb5449a6"
      },
      "source": [
        "for f0,f1 in test_data_f.batch(1500):\n",
        "  y=f1\n",
        "  y_pred=tf.where(model.predict(f0)>0.5,1,0)\n",
        "  print(tf.math.confusion_matrix(labels=y,predictions=y_pred,num_classes=2))"
      ],
      "execution_count": 57,
      "outputs": [
        {
          "output_type": "stream",
          "text": [
            "tf.Tensor(\n",
            "[[426  64]\n",
            " [ 91 919]], shape=(2, 2), dtype=int32)\n",
            "tf.Tensor(\n",
            "[[391  72]\n",
            " [ 80 957]], shape=(2, 2), dtype=int32)\n",
            "tf.Tensor(\n",
            "[[440  89]\n",
            " [ 84 887]], shape=(2, 2), dtype=int32)\n",
            "tf.Tensor(\n",
            "[[434  65]\n",
            " [ 76 925]], shape=(2, 2), dtype=int32)\n",
            "tf.Tensor(\n",
            "[[431  73]\n",
            " [ 91 905]], shape=(2, 2), dtype=int32)\n",
            "tf.Tensor(\n",
            "[[421  87]\n",
            " [ 85 907]], shape=(2, 2), dtype=int32)\n",
            "tf.Tensor(\n",
            "[[396  71]\n",
            " [ 93 940]], shape=(2, 2), dtype=int32)\n",
            "tf.Tensor(\n",
            "[[407  80]\n",
            " [ 84 929]], shape=(2, 2), dtype=int32)\n",
            "tf.Tensor(\n",
            "[[451  66]\n",
            " [ 97 886]], shape=(2, 2), dtype=int32)\n",
            "tf.Tensor(\n",
            "[[318  56]\n",
            " [ 63 598]], shape=(2, 2), dtype=int32)\n"
          ],
          "name": "stdout"
        }
      ]
    },
    {
      "cell_type": "code",
      "metadata": {
        "id": "2pAmeRM9mLun",
        "colab_type": "code",
        "colab": {}
      },
      "source": [
        ""
      ],
      "execution_count": null,
      "outputs": []
    },
    {
      "cell_type": "code",
      "metadata": {
        "id": "NvDSdQJMmLq7",
        "colab_type": "code",
        "colab": {}
      },
      "source": [
        ""
      ],
      "execution_count": null,
      "outputs": []
    },
    {
      "cell_type": "code",
      "metadata": {
        "id": "bRCJAJDKmLjn",
        "colab_type": "code",
        "colab": {}
      },
      "source": [
        ""
      ],
      "execution_count": null,
      "outputs": []
    }
  ]
}